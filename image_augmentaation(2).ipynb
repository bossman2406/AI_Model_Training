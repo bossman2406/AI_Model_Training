{
 "cells": [
  {
   "cell_type": "code",
   "execution_count": 3,
   "metadata": {},
   "outputs": [],
   "source": [
    "import os\n",
    "from tensorflow.keras.preprocessing.image import ImageDataGenerator\n",
    "import cv2\n",
    "import numpy as np\n",
    "\n",
    "\n"
   ]
  },
  {
   "cell_type": "markdown",
   "metadata": {},
   "source": []
  },
  {
   "cell_type": "code",
   "execution_count": 49,
   "metadata": {},
   "outputs": [],
   "source": [
    "# Directories\n",
    "input_directory =  r\"C:\\Users\\FHILMANBINHA\\Coding\\AI Model\\data_4\\UBLD\"\n",
    "output_directory = r\"C:\\Users\\FHILMANBINHA\\Coding\\AI Model\\cropped_data_2\\UBLD\""
   ]
  },
  {
   "cell_type": "code",
   "execution_count": 50,
   "metadata": {},
   "outputs": [],
   "source": [
    "# Create output directory if it doesn't exist\n",
    "os.makedirs(output_directory, exist_ok=True)"
   ]
  },
  {
   "cell_type": "code",
   "execution_count": 6,
   "metadata": {},
   "outputs": [],
   "source": [
    "# Load the image\n",
    "image = cv2.imread(r\"C:\\Users\\FHILMANBINHA\\Coding\\AI Model\\data_3\\good\\label_20240313-105518.271_2754244A370F1SL_LXB393014210-2904_Forte26_62.64467-50.93300_FindObject===(LXB393014210-2904)=(15,2)=(M,M).png\")\n",
    "\n",
    "# Convert to grayscale\n",
    "gray = cv2.cvtColor(image, cv2.COLOR_BGR2GRAY)\n",
    "# Apply inverse thresholding to get white regions\n",
    "_, thresh = cv2.threshold(gray, 120, 255, cv2.THRESH_BINARY_INV)\n",
    "# Apply morphology to clean up the thresholded image\n",
    "kernel = np.ones((5, 5), np.uint8)\n",
    "cleaned_thresh = cv2.morphologyEx(thresh, cv2.MORPH_CLOSE, kernel)\n",
    "# Apply Gaussian blur to reduce noise\n",
    "blurred = cv2.GaussianBlur(cleaned_thresh, (5, 5), 0)\n",
    "# Apply Canny edge detection with adjusted parameters\n",
    "edges = cv2.Canny(blurred, 100, 200)\n",
    "# Find contours\n",
    "contours, _ = cv2.findContours(edges, cv2.RETR_EXTERNAL, cv2.CHAIN_APPROX_SIMPLE)\n",
    "# Draw the contours on a copy of the original image (for visualization)\n",
    "image_with_contours = image.copy()\n",
    "cv2.drawContours(image_with_contours, contours, -1, (0, 255, 0), 2)\n",
    "# Show the image with the contours\n",
    "cv2.imshow('Image with Contours', image_with_contours)\n",
    "cv2.waitKey(0)\n",
    "# Crop and display each contour\n",
    "for contour in contours:\n",
    "   x, y, w, h = cv2.boundingRect(contour)\n",
    "   cropped_image = image[y:y+h, x:x+w]\n",
    "   cv2.imshow('Cropped Image', cropped_image)\n",
    "   cv2.waitKey(0)\n",
    "cv2.destroyAllWindows()"
   ]
  },
  {
   "cell_type": "code",
   "execution_count": 18,
   "metadata": {},
   "outputs": [],
   "source": [
    "    img = cv2.imread(img_path)\n",
    "    gray = cv2.cvtColor(img, cv2.COLOR_BGR2GRAY)\n",
    "    thresh = cv2.adaptiveThreshold(gray, 255, cv2.ADAPTIVE_THRESH_GAUSSIAN_C, cv2.THRESH_BINARY_INV, 11, 2)\n",
    "\n",
    "    kernel = np.ones((3, 3), np.uint8)\n",
    "    thresh = cv2.morphologyEx(thresh, cv2.MORPH_CLOSE, kernel)\n",
    "\n",
    "    contours, _ = cv2.findContours(thresh, cv2.RETR_EXTERNAL, cv2.CHAIN_APPROX_SIMPLE)\n",
    "\n",
    "    max_area = 0\n",
    "    max_contour = None\n",
    "    for contour in contours:\n",
    "        area = cv2.contourArea(contour)\n",
    "        if area > max_area:\n",
    "            max_area = area\n",
    "            max_contour = contour\n",
    "\n",
    "    if max_contour is not None:\n",
    "        x, y, w, h = cv2.boundingRect(max_contour)\n",
    "        cv2.rectangle(img, (x, y), (x + w, y + h), (0, 255, 0), 2)\n",
    "        cropped_image = img[y:y+h, x:x+w]"
   ]
  },
  {
   "cell_type": "code",
   "execution_count": 51,
   "metadata": {},
   "outputs": [],
   "source": [
    "\n",
    "\n",
    "def augment_and_save_images(img_path, output_dir, prefix='cropped'):\n",
    "  image = cv2.imread(img_path)\n",
    "  # Convert to grayscale\n",
    "  gray = cv2.cvtColor(image, cv2.COLOR_BGR2GRAY)\n",
    "  # Apply inverse thresholding to get white regions\n",
    "  _, thresh = cv2.threshold(gray, 100, 255, cv2.THRESH_BINARY_INV)\n",
    "  # Apply morphology to clean up the thresholded image\n",
    "  kernel = np.ones((5, 5), np.uint8)\n",
    "  cleaned_thresh = cv2.morphologyEx(thresh, cv2.MORPH_CLOSE, kernel)\n",
    "  # Apply Gaussian blur to reduce noise\n",
    "  blurred = cv2.GaussianBlur(cleaned_thresh, (5, 5), 0)\n",
    "  # Apply Canny edge detection with adjusted parameters\n",
    "  edges = cv2.Canny(blurred, 100, 200)\n",
    "  # Find contours\n",
    "  contours, _ = cv2.findContours(edges, cv2.RETR_EXTERNAL, cv2.CHAIN_APPROX_SIMPLE)\n",
    "  \n",
    "  # Check if contours were found\n",
    "  if not contours:\n",
    "    print(f\"No contours found in image at {img_path}\")\n",
    "    return\n",
    "  \n",
    "  # Draw the contours on a copy of the original image (for visualization)\n",
    "  image_with_contours = image.copy()\n",
    "  cv2.drawContours(image_with_contours, contours, -1, (0, 255, 0), 2)\n",
    "  \n",
    "  # Crop and display each contour\n",
    "  for contour in contours:\n",
    "   x, y, w, h = cv2.boundingRect(contour)\n",
    "   cropped_image = image[y:y+h, x:x+w]\n",
    "\n",
    "  \n",
    "  file_name = prefix + '_' + os.path.basename(img_path)\n",
    "  full_path = os.path.join(output_dir, file_name)\n",
    "\n",
    "  cv2.imwrite(full_path, cropped_image)\n",
    "\n"
   ]
  },
  {
   "cell_type": "code",
   "execution_count": 52,
   "metadata": {},
   "outputs": [
    {
     "name": "stdout",
     "output_type": "stream",
     "text": [
      "Augmentation complete. Augmented images saved in: C:\\Users\\FHILMANBINHA\\Coding\\AI Model\\cropped_data_2\\UBLD\n"
     ]
    }
   ],
   "source": [
    "# Loop through original images and augment\n",
    "for filename in os.listdir(input_directory):\n",
    " if filename.endswith(\".jpg\") or filename.endswith(\".png\"):\n",
    "       img_path = os.path.join(input_directory, filename)\n",
    "       augment_and_save_images(img_path, output_directory, prefix='cropped')\n",
    "print(\"Augmentation complete. Augmented images saved in:\", output_directory)"
   ]
  },
  {
   "cell_type": "code",
   "execution_count": null,
   "metadata": {},
   "outputs": [],
   "source": []
  }
 ],
 "metadata": {
  "kernelspec": {
   "display_name": "base",
   "language": "python",
   "name": "python3"
  },
  "language_info": {
   "codemirror_mode": {
    "name": "ipython",
    "version": 3
   },
   "file_extension": ".py",
   "mimetype": "text/x-python",
   "name": "python",
   "nbconvert_exporter": "python",
   "pygments_lexer": "ipython3",
   "version": "3.11.3"
  }
 },
 "nbformat": 4,
 "nbformat_minor": 2
}
