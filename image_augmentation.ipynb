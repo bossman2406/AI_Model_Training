{
 "cells": [
  {
   "cell_type": "code",
   "execution_count": 1,
   "metadata": {},
   "outputs": [],
   "source": [
    "import os\n",
    "from tensorflow.keras.preprocessing.image import ImageDataGenerator\n",
    "import cv2\n",
    "import numpy as np\n"
   ]
  },
  {
   "cell_type": "code",
   "execution_count": 28,
   "metadata": {},
   "outputs": [],
   "source": [
    "# Directories\n",
    "input_directory =  r\"C:\\Users\\FHILMANBINHA\\Coding\\AI Model\\data\\NoDie\"\n",
    "output_directory = r\"C:\\Users\\FHILMANBINHA\\Coding\\AI Model\\augmented_data_3\\NoDie\"\n"
   ]
  },
  {
   "cell_type": "code",
   "execution_count": 29,
   "metadata": {},
   "outputs": [],
   "source": [
    "# Create output directory if it doesn't exist\n",
    "os.makedirs(output_directory, exist_ok=True)\n"
   ]
  },
  {
   "cell_type": "code",
   "execution_count": 30,
   "metadata": {},
   "outputs": [],
   "source": [
    "# Parameters for data augmentation\n",
    "datagen = ImageDataGenerator(\n",
    "  \n",
    "   width_shift_range=0.1,      # Shift images horizontally by 20%\n",
    "   height_shift_range=0.1,     # Shift images vertically by 20%\n",
    "   brightness_range=[0.7, 1.3],# Adjust brightness between 70% and 130%\n",
    "   shear_range=0.2,            # Shear angle in counter-clockwise direction\n",
    "   zoom_range=0.2,             # Zoom images by up to 20%\n",
    "   horizontal_flip=True,       # Flip images horizontally\n",
    "   vertical_flip = True,\n",
    "   fill_mode='nearest'         # Fill in newly created pixels (e.g., after rotation)\n",
    ")\n"
   ]
  },
  {
   "cell_type": "code",
   "execution_count": 31,
   "metadata": {},
   "outputs": [],
   "source": [
    "# Function to load and save augmented images\n",
    "def augment_and_save_images(img_path, output_dir, prefix='aug', num_images=5):\n",
    "   img = cv2.imread(img_path)\n",
    "   img = cv2.cvtColor(img, cv2.COLOR_BGR2RGB)\n",
    "   img = img.reshape((1,) + img.shape)  # Reshape to (1, height, width, channels)\n",
    "\n",
    "   # Flow augmented images\n",
    "   i = 0\n",
    "   for batch in datagen.flow(img, batch_size=1, save_to_dir=output_dir, save_prefix=prefix, save_format='jpg'):\n",
    "       i += 1\n",
    "       if i >= num_images:\n",
    "           break  # Break the loop to stop after generating num_images\n"
   ]
  },
  {
   "cell_type": "code",
   "execution_count": 32,
   "metadata": {},
   "outputs": [
    {
     "name": "stdout",
     "output_type": "stream",
     "text": [
      "Augmentation complete. Augmented images saved in: C:\\Users\\FHILMANBINHA\\Coding\\AI Model\\augmented_data_3\\NoDie\n"
     ]
    }
   ],
   "source": [
    "# Loop through original images and augment\n",
    "for filename in os.listdir(input_directory):\n",
    "   if filename.endswith(\".jpg\") or filename.endswith(\".png\"):\n",
    "       img_path = os.path.join(input_directory, filename)\n",
    "       augment_and_save_images(img_path, output_directory, prefix='augmented_'+filename[:-4], num_images=5)\n",
    "print(\"Augmentation complete. Augmented images saved in:\", output_directory)"
   ]
  },
  {
   "cell_type": "code",
   "execution_count": null,
   "metadata": {},
   "outputs": [],
   "source": []
  },
  {
   "cell_type": "code",
   "execution_count": null,
   "metadata": {},
   "outputs": [],
   "source": []
  }
 ],
 "metadata": {
  "kernelspec": {
   "display_name": "base",
   "language": "python",
   "name": "python3"
  },
  "language_info": {
   "codemirror_mode": {
    "name": "ipython",
    "version": 3
   },
   "file_extension": ".py",
   "mimetype": "text/x-python",
   "name": "python",
   "nbconvert_exporter": "python",
   "pygments_lexer": "ipython3",
   "version": "3.11.3"
  }
 },
 "nbformat": 4,
 "nbformat_minor": 2
}
